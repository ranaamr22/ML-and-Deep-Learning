{
  "cells": [
    {
      "cell_type": "markdown",
      "metadata": {
        "id": "view-in-github",
        "colab_type": "text"
      },
      "source": [
        "<a href=\"https://colab.research.google.com/github/ranaamr22/ML-and-Deep-Learning/blob/main/TrainingTemplate.ipynb\" target=\"_parent\"><img src=\"https://colab.research.google.com/assets/colab-badge.svg\" alt=\"Open In Colab\"/></a>"
      ]
    },
    {
      "cell_type": "markdown",
      "metadata": {
        "id": "7_EKrZhh-HW0"
      },
      "source": [
        "# Problem Statement:\n",
        "\n",
        "The objective of this competition is to develop a keypoint regression model capable of predicting the keypoints of a cone in an image. To achieve this goal, participants will be provided with a dataset containing 1054 images of cones and their corresponding keypoint positions (x,y). The challenge involves building a model that can accurately predict the keypoints of cones in unseen images.\n",
        "\n",
        "### Dataset:\n",
        "\n",
        "The dataset consists of 1000 images of cones and their corresponding keypoint positions. Each image can be resized to 80x80 pixels, and the dataset preparation class has already been provided to participants. Additionally, data augmentation techniques are available for use to improve the generalization of the model. The keypoint positions are represented as 16-element vectors for each image.\n",
        "\n",
        "### Model:\n",
        "\n",
        "Participants are free to use any approach or model architecture to prepare their model. However, it should be capable of predicting the keypoint positions accurately. The models will be evaluated based on the following criteria:\n",
        "\n",
        "    1) MSELoss: The model should have a low mean squared error (MSE) when predicting the keypoint positions. The lower the MSE, the better the model.\n",
        "\n",
        "    2) Visual Display: The model's output should be visually appealing, accurately displaying the predicted keypoints on the cones. A good visual display of the output keypoints will indicate the quality of the model.\n",
        "\n",
        "### Judging Criteria:\n",
        "\n",
        "The models submitted by participants will be evaluated based on the following criteria:\n",
        "\n",
        "    1) MSELoss: The models with lower MSE will be awarded higher scores. The MSE will be calculated based on the predicted keypoint positions of the cones.\n",
        "\n",
        "    2) Visual Display: The models will be evaluated based on the visual display of the predicted keypoints on the cones. The models with better visual displays will be awarded higher scores.\n",
        "\n",
        "    3) Inference Time: The inference time of each model will be measured based on 100 iterations. The models with shorter inference times will be awarded higher scores.\n",
        "\n",
        "The model with the highest score based on the above criteria will be declared the winner of the competition.\n",
        "The score will be evaluated based on the entire dataset including examples that are NOT included in the provided training data to measure the model's ability to generalize.\n",
        "### Examples:\n",
        "keypoint_regression/notebooks/Training.ipynb\n",
        "\n",
        "### NOTE!!\n",
        "You do not require the complete code base, as the other files are only included for reference purposes. These files can help you understand the overall pipeline bigger picture."
      ]
    },
    {
      "cell_type": "code",
      "source": [
        "!unzip keypoint_regression"
      ],
      "metadata": {
        "id": "6ooEikeQi8b1"
      },
      "execution_count": null,
      "outputs": []
    },
    {
      "cell_type": "code",
      "execution_count": null,
      "metadata": {
        "id": "zL6mqlME-ZRv"
      },
      "outputs": [],
      "source": [
        "from keypoint_regression.model import KeypointNet"
      ]
    },
    {
      "cell_type": "code",
      "source": [
        "!unzip /content/keypoint_regression/data.zip"
      ],
      "metadata": {
        "id": "FITa5tiDgqFs"
      },
      "execution_count": null,
      "outputs": []
    },
    {
      "cell_type": "code",
      "source": [
        "import torch\n",
        "\n",
        "from torch.utils.data import DataLoader\n",
        "from torch.utils.data.dataset import random_split\n",
        "\n",
        "from torch.optim import Adam\n",
        "from torch.optim.lr_scheduler import ReduceLROnPlateau\n",
        "\n",
        "from torch.nn import Module, MSELoss, L1Loss\n",
        "\n",
        "import torchvision.transforms as transforms\n",
        "\n",
        "from keypoint_regression.dataset import  KeypointDataset\n",
        "\n",
        "from keypoint_regression.model import KeypointNet\n",
        "\n",
        "from keypoint_regression.trainer import TrainingParameters, train\n",
        "\n",
        "#from utils import *\n",
        "\n",
        "#Code cell <undefined>\n",
        "## %% [code]"
      ],
      "metadata": {
        "id": "Er1Ofg5bgN7E"
      },
      "execution_count": null,
      "outputs": []
    },
    {
      "cell_type": "code",
      "execution_count": 39,
      "metadata": {
        "id": "UlmaWF5s-HW3"
      },
      "outputs": [],
      "source": [
        "imgsPath = \"/content/data/imgs\"\n",
        "jsonPath = \"/content/data/json\"\n",
        "\n",
        "def normalize_dataset(dataset):\n",
        "    # Calculate mean and std deviation\n",
        "    mean = torch.zeros(3)\n",
        "    std = torch.zeros(3)\n",
        "    for img, _ in dataset:\n",
        "        img = img.expand(3, -1, -1)  # add extra dimension for RGB channel\n",
        "        mean += torch.mean(img, dim=(1, 2))\n",
        "        std += torch.std(img, dim=(1, 2))\n",
        "    mean /= len(dataset)\n",
        "    std /= len(dataset)\n",
        "    \n",
        "    # Create normalization transform\n",
        "    normalize = transforms.Normalize(mean=mean, std=std)\n",
        "    \n",
        "    # Apply transform to dataset\n",
        "    transformed_dataset = []\n",
        "    for img, target in dataset:\n",
        "        img = img.expand(3, -1, -1)  # add extra dimension for RGB channel\n",
        "        img = normalize(img)\n",
        "        transformed_dataset.append((img, target))\n",
        "    \n",
        "    return transformed_dataset\n",
        "\n",
        "dataset =KeypointDataset(jsonPath, imgsPath)\n",
        "normalized_dataset = normalize_dataset(dataset)"
      ]
    },
    {
      "cell_type": "code",
      "execution_count": 40,
      "metadata": {
        "id": "vAjzIXFj-HW3",
        "outputId": "7c60f02f-0d9e-4f1c-9364-cafbcbbbc90c",
        "colab": {
          "base_uri": "https://localhost:8080/"
        }
      },
      "outputs": [
        {
          "output_type": "stream",
          "name": "stdout",
          "text": [
            "==============================\n",
            "Train dataset 737\n",
            "Valid dataset 210\n",
            "Test dataset 107\n"
          ]
        }
      ],
      "source": [
        "# preparing dataloaders\n",
        "TRAIN_SIZE = int(0.7*len(dataset))\n",
        "VALID_SIZE = int(0.2*len(dataset))\n",
        "TEST_SIZE = len(dataset) - TRAIN_SIZE - VALID_SIZE\n",
        "BATCH_SIZE = 128\n",
        "\n",
        "# random split the data\n",
        "trainDataset, valDataset, testDataset = random_split(dataset, [TRAIN_SIZE, VALID_SIZE, TEST_SIZE])\n",
        "\n",
        "# creating dataloaders\n",
        "trainLoader = DataLoader(trainDataset, batch_size=BATCH_SIZE, shuffle=True)\n",
        "validLoader = DataLoader(valDataset, batch_size=BATCH_SIZE, shuffle=True)\n",
        "testLoader = DataLoader(testDataset, batch_size=BATCH_SIZE, shuffle=True)\n",
        "\n",
        "# sanity check\n",
        "print('='*30)\n",
        "print(\"Train dataset\", len(trainDataset))\n",
        "print(\"Valid dataset\", len(valDataset))\n",
        "print(\"Test dataset\", len(testDataset))"
      ]
    },
    {
      "cell_type": "markdown",
      "metadata": {
        "id": "5hPW0XcZ-HW4"
      },
      "source": [
        "### Example of how to show image from batch"
      ]
    },
    {
      "cell_type": "code",
      "execution_count": 47,
      "metadata": {
        "id": "9hQkCxeX-HW4",
        "outputId": "8c226dcc-4cc1-4eb9-fdb1-a6d08724173f",
        "colab": {
          "base_uri": "https://localhost:8080/",
          "height": 433
        }
      },
      "outputs": [
        {
          "output_type": "display_data",
          "data": {
            "text/plain": [
              "<Figure size 640x480 with 1 Axes>"
            ],
            "image/png": "[encoded data removed]"
          },
          "metadata": {}
        }
      ],
      "source": [
        "# sanity check\n",
        "import numpy as np\n",
        "import matplotlib.pyplot as plt\n",
        "\n",
        "imgs, labels = next(iter(testLoader))\n",
        "i = 0\n",
        "bs, _, height, width = imgs.shape\n",
        "kps = labels[i].cpu().detach().numpy()\n",
        "\n",
        "kps = kps.reshape(-1,2)\n",
        "kps[:,0] = kps[:,0]*width\n",
        "kps[:,1] = kps[:,1]*height\n",
        "kps = kps.astype(int)\n",
        "\n",
        "img = imgs[i].cpu().detach().permute(1,2,0).squeeze(2).numpy().astype(np.float32).copy()\n",
        "for point1 in kps:\n",
        "    plt.plot(*point1, marker='*', color='red', alpha=0.5)\n",
        "\n",
        "plt.imshow(img)\n",
        "plt.show()"
      ]
    },
    {
      "cell_type": "markdown",
      "metadata": {
        "id": "Rj2CiHE6-HW4"
      },
      "source": [
        "## Modelling "
      ]
    },
    {
      "cell_type": "code",
      "execution_count": null,
      "metadata": {
        "id": "dYWYpZsr-HW4"
      },
      "outputs": [],
      "source": [
        "class KeypointNet(Module):\n",
        "    def __init__(self, inputChannels, outKeypoints):\n",
        "        super().__init__()\n",
        "        self.inputChannels = inputChannels\n",
        "        self.outKeypoints = outKeypoints\n",
        "        # @TODO Define your model\n",
        "        \n",
        "    #@TODO write the forward function\n",
        "    def forward(self, x):\n",
        "        pass"
      ]
    },
    {
      "cell_type": "code",
      "source": [
        "from typing import Union, Tuple\n",
        "import torch\n",
        "from torch import nn\n",
        "import datetime\n",
        "class ResBlock(nn.Module):\n",
        "    \"\"\"Represents Residual blocks from resenet paper:\n",
        "    Deep Residual Learning for Image Recognition  https://arxiv.org/abs/1512.03385\n",
        "    \"\"\"\n",
        "\n",
        "    def __init__(self, dims: int, kernelSize: Union[int, Tuple[int]] = 3):\n",
        "        \"\"\"constructor\n",
        "\n",
        "        Parameters:\n",
        "        -----------\n",
        "        dims:(int, Tuple)\n",
        "            input and output dimension\n",
        "        kernelSize: Union[int, Tuple[int]] default=3\n",
        "            convolution kernel size\n",
        "        \"\"\"\n",
        "        super().__init__()\n",
        "        if isinstance(kernelSize, Tuple):\n",
        "            padding = (int((kernelSize[0] - 1) / 2), int((kernelSize[1] - 1) / 2))\n",
        "        else:\n",
        "            padding = int((kernelSize - 1) / 2)\n",
        "\n",
        "        self.model = nn.Sequential(\n",
        "            nn.Conv2d(in_channels=dims, out_channels=dims, kernel_size=kernelSize, padding=padding),\n",
        "            nn.ReLU(),\n",
        "            # nn.BatchNorm2d(dims),\n",
        "            nn.Conv2d(in_channels=dims, out_channels=dims, kernel_size=kernelSize, padding=padding),\n",
        "            nn.ReLU(),\n",
        "            # nn.BatchNorm2d(dims),\n",
        "        )\n",
        "\n",
        "    def forward(self, featureVector: torch.Tensor) -> torch.Tensor:\n",
        "        \"\"\"performs forward propagation\n",
        "\n",
        "        Parameters:\n",
        "        -----------\n",
        "        featureVector: torch.Tensor\n",
        "            input feature vector for resblock\n",
        "\n",
        "        Returns:\n",
        "        --------\n",
        "        torch.Tensor\n",
        "            represents the features vector output\n",
        "            of the resblock\n",
        "        \"\"\"\n",
        "        out = self.model(featureVector)\n",
        "        return out + featureVector\n",
        "\n",
        "\n",
        "def miniTest():\n",
        "    \"\"\"tests little tests to the module\"\"\"\n",
        "    model = KeypointNet(1, 8)\n",
        "    model = model.cuda()\n",
        "\n",
        "    total = 0\n",
        "    ITERATIONS = 100\n",
        "    model.eval()\n",
        "\n",
        "    for _ in range(ITERATIONS):\n",
        "\n",
        "        imagesBatch = torch.randn(80, 1, 80, 80)  # pylint: disable=no-member\n",
        "        time1 = datetime.datetime.now()\n",
        "\n",
        "        # put images on cuda\n",
        "        imagesBatch = imagesBatch.cuda()\n",
        "        y = model(imagesBatch)\n",
        "\n",
        "        # computing time difference and calculating average execution time\n",
        "        time2 = datetime.datetime.now()\n",
        "        total += (time2 - time1).microseconds * 1e-3\n",
        "\n",
        "    print(total / ITERATIONS, \"ms\")\n",
        "\n",
        "\n",
        "if __name__ == \"__main__\":\n",
        "    miniTest()"
      ],
      "metadata": {
        "colab": {
          "base_uri": "https://localhost:8080/",
          "height": 363
        },
        "id": "0jHHnEZodIYt",
        "outputId": "45541c59-fe5a-4cb2-860e-ad14ea5294ef"
      },
      "execution_count": 48,
      "outputs": [
        {
          "output_type": "error",
          "ename": "RuntimeError",
          "evalue": "ignored",
          "traceback": [
            "\u001b[0;31m---------------------------------------------------------------------------\u001b[0m",
            "\u001b[0;31mRuntimeError\u001b[0m                              Traceback (most recent call last)",
            "\u001b[0;32m<ipython-input-48-0a8ea1434f55>\u001b[0m in \u001b[0;36m<cell line: 78>\u001b[0;34m()\u001b[0m\n\u001b[1;32m     77\u001b[0m \u001b[0;34m\u001b[0m\u001b[0m\n\u001b[1;32m     78\u001b[0m \u001b[0;32mif\u001b[0m \u001b[0m__name__\u001b[0m \u001b[0;34m==\u001b[0m \u001b[0;34m\"__main__\"\u001b[0m\u001b[0;34m:\u001b[0m\u001b[0;34m\u001b[0m\u001b[0;34m\u001b[0m\u001b[0m\n\u001b[0;32m---> 79\u001b[0;31m     \u001b[0mminiTest\u001b[0m\u001b[0;34m(\u001b[0m\u001b[0;34m)\u001b[0m\u001b[0;34m\u001b[0m\u001b[0;34m\u001b[0m\u001b[0m\n\u001b[0m",
            "\u001b[0;32m<ipython-input-48-0a8ea1434f55>\u001b[0m in \u001b[0;36mminiTest\u001b[0;34m()\u001b[0m\n\u001b[1;32m     54\u001b[0m     \u001b[0;34m\"\"\"tests little tests to the module\"\"\"\u001b[0m\u001b[0;34m\u001b[0m\u001b[0;34m\u001b[0m\u001b[0m\n\u001b[1;32m     55\u001b[0m     \u001b[0mmodel\u001b[0m \u001b[0;34m=\u001b[0m \u001b[0mKeypointNet\u001b[0m\u001b[0;34m(\u001b[0m\u001b[0;36m1\u001b[0m\u001b[0;34m,\u001b[0m \u001b[0;36m8\u001b[0m\u001b[0;34m)\u001b[0m\u001b[0;34m\u001b[0m\u001b[0;34m\u001b[0m\u001b[0m\n\u001b[0;32m---> 56\u001b[0;31m     \u001b[0mmodel\u001b[0m \u001b[0;34m=\u001b[0m \u001b[0mmodel\u001b[0m\u001b[0;34m.\u001b[0m\u001b[0mcuda\u001b[0m\u001b[0;34m(\u001b[0m\u001b[0;34m)\u001b[0m\u001b[0;34m\u001b[0m\u001b[0;34m\u001b[0m\u001b[0m\n\u001b[0m\u001b[1;32m     57\u001b[0m \u001b[0;34m\u001b[0m\u001b[0m\n\u001b[1;32m     58\u001b[0m     \u001b[0mtotal\u001b[0m \u001b[0;34m=\u001b[0m \u001b[0;36m0\u001b[0m\u001b[0;34m\u001b[0m\u001b[0;34m\u001b[0m\u001b[0m\n",
            "\u001b[0;32m/usr/local/lib/python3.10/dist-packages/torch/nn/modules/module.py\u001b[0m in \u001b[0;36mcuda\u001b[0;34m(self, device)\u001b[0m\n\u001b[1;32m    903\u001b[0m             \u001b[0mModule\u001b[0m\u001b[0;34m:\u001b[0m \u001b[0mself\u001b[0m\u001b[0;34m\u001b[0m\u001b[0;34m\u001b[0m\u001b[0m\n\u001b[1;32m    904\u001b[0m         \"\"\"\n\u001b[0;32m--> 905\u001b[0;31m         \u001b[0;32mreturn\u001b[0m \u001b[0mself\u001b[0m\u001b[0;34m.\u001b[0m\u001b[0m_apply\u001b[0m\u001b[0;34m(\u001b[0m\u001b[0;32mlambda\u001b[0m \u001b[0mt\u001b[0m\u001b[0;34m:\u001b[0m \u001b[0mt\u001b[0m\u001b[0;34m.\u001b[0m\u001b[0mcuda\u001b[0m\u001b[0;34m(\u001b[0m\u001b[0mdevice\u001b[0m\u001b[0;34m)\u001b[0m\u001b[0;34m)\u001b[0m\u001b[0;34m\u001b[0m\u001b[0;34m\u001b[0m\u001b[0m\n\u001b[0m\u001b[1;32m    906\u001b[0m \u001b[0;34m\u001b[0m\u001b[0m\n\u001b[1;32m    907\u001b[0m     \u001b[0;32mdef\u001b[0m \u001b[0mipu\u001b[0m\u001b[0;34m(\u001b[0m\u001b[0mself\u001b[0m\u001b[0;34m:\u001b[0m \u001b[0mT\u001b[0m\u001b[0;34m,\u001b[0m \u001b[0mdevice\u001b[0m\u001b[0;34m:\u001b[0m \u001b[0mOptional\u001b[0m\u001b[0;34m[\u001b[0m\u001b[0mUnion\u001b[0m\u001b[0;34m[\u001b[0m\u001b[0mint\u001b[0m\u001b[0;34m,\u001b[0m \u001b[0mdevice\u001b[0m\u001b[0;34m]\u001b[0m\u001b[0;34m]\u001b[0m \u001b[0;34m=\u001b[0m \u001b[0;32mNone\u001b[0m\u001b[0;34m)\u001b[0m \u001b[0;34m->\u001b[0m \u001b[0mT\u001b[0m\u001b[0;34m:\u001b[0m\u001b[0;34m\u001b[0m\u001b[0;34m\u001b[0m\u001b[0m\n",
            "\u001b[0;32m/usr/local/lib/python3.10/dist-packages/torch/nn/modules/module.py\u001b[0m in \u001b[0;36m_apply\u001b[0;34m(self, fn)\u001b[0m\n\u001b[1;32m    795\u001b[0m     \u001b[0;32mdef\u001b[0m \u001b[0m_apply\u001b[0m\u001b[0;34m(\u001b[0m\u001b[0mself\u001b[0m\u001b[0;34m,\u001b[0m \u001b[0mfn\u001b[0m\u001b[0;34m)\u001b[0m\u001b[0;34m:\u001b[0m\u001b[0;34m\u001b[0m\u001b[0;34m\u001b[0m\u001b[0m\n\u001b[1;32m    796\u001b[0m         \u001b[0;32mfor\u001b[0m \u001b[0mmodule\u001b[0m \u001b[0;32min\u001b[0m \u001b[0mself\u001b[0m\u001b[0;34m.\u001b[0m\u001b[0mchildren\u001b[0m\u001b[0;34m(\u001b[0m\u001b[0;34m)\u001b[0m\u001b[0;34m:\u001b[0m\u001b[0;34m\u001b[0m\u001b[0;34m\u001b[0m\u001b[0m\n\u001b[0;32m--> 797\u001b[0;31m             \u001b[0mmodule\u001b[0m\u001b[0;34m.\u001b[0m\u001b[0m_apply\u001b[0m\u001b[0;34m(\u001b[0m\u001b[0mfn\u001b[0m\u001b[0;34m)\u001b[0m\u001b[0;34m\u001b[0m\u001b[0;34m\u001b[0m\u001b[0m\n\u001b[0m\u001b[1;32m    798\u001b[0m \u001b[0;34m\u001b[0m\u001b[0m\n\u001b[1;32m    799\u001b[0m         \u001b[0;32mdef\u001b[0m \u001b[0mcompute_should_use_set_data\u001b[0m\u001b[0;34m(\u001b[0m\u001b[0mtensor\u001b[0m\u001b[0;34m,\u001b[0m \u001b[0mtensor_applied\u001b[0m\u001b[0;34m)\u001b[0m\u001b[0;34m:\u001b[0m\u001b[0;34m\u001b[0m\u001b[0;34m\u001b[0m\u001b[0m\n",
            "\u001b[0;32m/usr/local/lib/python3.10/dist-packages/torch/nn/modules/module.py\u001b[0m in \u001b[0;36m_apply\u001b[0;34m(self, fn)\u001b[0m\n\u001b[1;32m    795\u001b[0m     \u001b[0;32mdef\u001b[0m \u001b[0m_apply\u001b[0m\u001b[0;34m(\u001b[0m\u001b[0mself\u001b[0m\u001b[0;34m,\u001b[0m \u001b[0mfn\u001b[0m\u001b[0;34m)\u001b[0m\u001b[0;34m:\u001b[0m\u001b[0;34m\u001b[0m\u001b[0;34m\u001b[0m\u001b[0m\n\u001b[1;32m    796\u001b[0m         \u001b[0;32mfor\u001b[0m \u001b[0mmodule\u001b[0m \u001b[0;32min\u001b[0m \u001b[0mself\u001b[0m\u001b[0;34m.\u001b[0m\u001b[0mchildren\u001b[0m\u001b[0;34m(\u001b[0m\u001b[0;34m)\u001b[0m\u001b[0;34m:\u001b[0m\u001b[0;34m\u001b[0m\u001b[0;34m\u001b[0m\u001b[0m\n\u001b[0;32m--> 797\u001b[0;31m             \u001b[0mmodule\u001b[0m\u001b[0;34m.\u001b[0m\u001b[0m_apply\u001b[0m\u001b[0;34m(\u001b[0m\u001b[0mfn\u001b[0m\u001b[0;34m)\u001b[0m\u001b[0;34m\u001b[0m\u001b[0;34m\u001b[0m\u001b[0m\n\u001b[0m\u001b[1;32m    798\u001b[0m \u001b[0;34m\u001b[0m\u001b[0m\n\u001b[1;32m    799\u001b[0m         \u001b[0;32mdef\u001b[0m \u001b[0mcompute_should_use_set_data\u001b[0m\u001b[0;34m(\u001b[0m\u001b[0mtensor\u001b[0m\u001b[0;34m,\u001b[0m \u001b[0mtensor_applied\u001b[0m\u001b[0;34m)\u001b[0m\u001b[0;34m:\u001b[0m\u001b[0;34m\u001b[0m\u001b[0;34m\u001b[0m\u001b[0m\n",
            "\u001b[0;32m/usr/local/lib/python3.10/dist-packages/torch/nn/modules/module.py\u001b[0m in \u001b[0;36m_apply\u001b[0;34m(self, fn)\u001b[0m\n\u001b[1;32m    818\u001b[0m             \u001b[0;31m# `with torch.no_grad():`\u001b[0m\u001b[0;34m\u001b[0m\u001b[0;34m\u001b[0m\u001b[0m\n\u001b[1;32m    819\u001b[0m             \u001b[0;32mwith\u001b[0m \u001b[0mtorch\u001b[0m\u001b[0;34m.\u001b[0m\u001b[0mno_grad\u001b[0m\u001b[0;34m(\u001b[0m\u001b[0;34m)\u001b[0m\u001b[0;34m:\u001b[0m\u001b[0;34m\u001b[0m\u001b[0;34m\u001b[0m\u001b[0m\n\u001b[0;32m--> 820\u001b[0;31m                 \u001b[0mparam_applied\u001b[0m \u001b[0;34m=\u001b[0m \u001b[0mfn\u001b[0m\u001b[0;34m(\u001b[0m\u001b[0mparam\u001b[0m\u001b[0;34m)\u001b[0m\u001b[0;34m\u001b[0m\u001b[0;34m\u001b[0m\u001b[0m\n\u001b[0m\u001b[1;32m    821\u001b[0m             \u001b[0mshould_use_set_data\u001b[0m \u001b[0;34m=\u001b[0m \u001b[0mcompute_should_use_set_data\u001b[0m\u001b[0;34m(\u001b[0m\u001b[0mparam\u001b[0m\u001b[0;34m,\u001b[0m \u001b[0mparam_applied\u001b[0m\u001b[0;34m)\u001b[0m\u001b[0;34m\u001b[0m\u001b[0;34m\u001b[0m\u001b[0m\n\u001b[1;32m    822\u001b[0m             \u001b[0;32mif\u001b[0m \u001b[0mshould_use_set_data\u001b[0m\u001b[0;34m:\u001b[0m\u001b[0;34m\u001b[0m\u001b[0;34m\u001b[0m\u001b[0m\n",
            "\u001b[0;32m/usr/local/lib/python3.10/dist-packages/torch/nn/modules/module.py\u001b[0m in \u001b[0;36m<lambda>\u001b[0;34m(t)\u001b[0m\n\u001b[1;32m    903\u001b[0m             \u001b[0mModule\u001b[0m\u001b[0;34m:\u001b[0m \u001b[0mself\u001b[0m\u001b[0;34m\u001b[0m\u001b[0;34m\u001b[0m\u001b[0m\n\u001b[1;32m    904\u001b[0m         \"\"\"\n\u001b[0;32m--> 905\u001b[0;31m         \u001b[0;32mreturn\u001b[0m \u001b[0mself\u001b[0m\u001b[0;34m.\u001b[0m\u001b[0m_apply\u001b[0m\u001b[0;34m(\u001b[0m\u001b[0;32mlambda\u001b[0m \u001b[0mt\u001b[0m\u001b[0;34m:\u001b[0m \u001b[0mt\u001b[0m\u001b[0;34m.\u001b[0m\u001b[0mcuda\u001b[0m\u001b[0;34m(\u001b[0m\u001b[0mdevice\u001b[0m\u001b[0;34m)\u001b[0m\u001b[0;34m)\u001b[0m\u001b[0;34m\u001b[0m\u001b[0;34m\u001b[0m\u001b[0m\n\u001b[0m\u001b[1;32m    906\u001b[0m \u001b[0;34m\u001b[0m\u001b[0m\n\u001b[1;32m    907\u001b[0m     \u001b[0;32mdef\u001b[0m \u001b[0mipu\u001b[0m\u001b[0;34m(\u001b[0m\u001b[0mself\u001b[0m\u001b[0;34m:\u001b[0m \u001b[0mT\u001b[0m\u001b[0;34m,\u001b[0m \u001b[0mdevice\u001b[0m\u001b[0;34m:\u001b[0m \u001b[0mOptional\u001b[0m\u001b[0;34m[\u001b[0m\u001b[0mUnion\u001b[0m\u001b[0;34m[\u001b[0m\u001b[0mint\u001b[0m\u001b[0;34m,\u001b[0m \u001b[0mdevice\u001b[0m\u001b[0;34m]\u001b[0m\u001b[0;34m]\u001b[0m \u001b[0;34m=\u001b[0m \u001b[0;32mNone\u001b[0m\u001b[0;34m)\u001b[0m \u001b[0;34m->\u001b[0m \u001b[0mT\u001b[0m\u001b[0;34m:\u001b[0m\u001b[0;34m\u001b[0m\u001b[0;34m\u001b[0m\u001b[0m\n",
            "\u001b[0;32m/usr/local/lib/python3.10/dist-packages/torch/cuda/__init__.py\u001b[0m in \u001b[0;36m_lazy_init\u001b[0;34m()\u001b[0m\n\u001b[1;32m    245\u001b[0m         \u001b[0;32mif\u001b[0m \u001b[0;34m'CUDA_MODULE_LOADING'\u001b[0m \u001b[0;32mnot\u001b[0m \u001b[0;32min\u001b[0m \u001b[0mos\u001b[0m\u001b[0;34m.\u001b[0m\u001b[0menviron\u001b[0m\u001b[0;34m:\u001b[0m\u001b[0;34m\u001b[0m\u001b[0;34m\u001b[0m\u001b[0m\n\u001b[1;32m    246\u001b[0m             \u001b[0mos\u001b[0m\u001b[0;34m.\u001b[0m\u001b[0menviron\u001b[0m\u001b[0;34m[\u001b[0m\u001b[0;34m'CUDA_MODULE_LOADING'\u001b[0m\u001b[0;34m]\u001b[0m \u001b[0;34m=\u001b[0m \u001b[0;34m'LAZY'\u001b[0m\u001b[0;34m\u001b[0m\u001b[0;34m\u001b[0m\u001b[0m\n\u001b[0;32m--> 247\u001b[0;31m         \u001b[0mtorch\u001b[0m\u001b[0;34m.\u001b[0m\u001b[0m_C\u001b[0m\u001b[0;34m.\u001b[0m\u001b[0m_cuda_init\u001b[0m\u001b[0;34m(\u001b[0m\u001b[0;34m)\u001b[0m\u001b[0;34m\u001b[0m\u001b[0;34m\u001b[0m\u001b[0m\n\u001b[0m\u001b[1;32m    248\u001b[0m         \u001b[0;31m# Some of the queued calls may reentrantly call _lazy_init();\u001b[0m\u001b[0;34m\u001b[0m\u001b[0;34m\u001b[0m\u001b[0m\n\u001b[1;32m    249\u001b[0m         \u001b[0;31m# we need to just return without initializing in that case.\u001b[0m\u001b[0;34m\u001b[0m\u001b[0;34m\u001b[0m\u001b[0m\n",
            "\u001b[0;31mRuntimeError\u001b[0m: Found no NVIDIA driver on your system. Please check that you have an NVIDIA GPU and installed a driver from http://www.nvidia.com/Download/index.aspx"
          ]
        }
      ]
    },
    {
      "cell_type": "code",
      "source": [
        "\n",
        "class KeypointNet(nn.Module):\n",
        "    \"\"\"keypoint regression class\"\"\"\n",
        "\n",
        "    def __init__(self, inputChannels, outKeypoints: int = 8):\n",
        "        \"\"\"constructor\n",
        "\n",
        "        Parameters:\n",
        "        -----------\n",
        "            outKeypoints: Default=8.\n",
        "        \"\"\"\n",
        "        super().__init__()\n",
        "        self.outKeypoints = outKeypoints\n",
        "        self.convPart = nn.Sequential(\n",
        "            nn.Conv2d(inputChannels, 64, kernel_size=(7, 7), stride=3, dilation=(2, 2)),\n",
        "            nn.ReLU(),\n",
        "            nn.BatchNorm2d(64),\n",
        "            ResBlock(dims=64, kernelSize=(3, 3)),\n",
        "            nn.Conv2d(64, 128, kernel_size=(3, 3), padding=1),\n",
        "            nn.ReLU(),\n",
        "            nn.BatchNorm2d(128),\n",
        "            ResBlock(dims=128, kernelSize=(3, 3)),\n",
        "            nn.Conv2d(128, 256, kernel_size=(3, 3), padding=1),\n",
        "            nn.ReLU(),\n",
        "            nn.BatchNorm2d(256),\n",
        "            ResBlock(dims=256, kernelSize=(3, 3)),\n",
        "            nn.Conv2d(256, 512, kernel_size=(3, 3), padding=1),\n",
        "            nn.ReLU(),\n",
        "            nn.BatchNorm2d(512),\n",
        "            ResBlock(dims=512, kernelSize=(3, 3)),\n",
        "        )\n",
        "\n",
        "        self.fcNet = nn.Linear(512 * 23 * 23, self.outKeypoints * 2)\n",
        "\n",
        "    def forward(self, img: torch.Tensor) -> torch.Tensor:\n",
        "        \"\"\"performs forward propagation\n",
        "\n",
        "        Parameters:\n",
        "        -----------\n",
        "        img: torch.Tensor\n",
        "            input bound image for the model to extract\n",
        "            features from. The image input size is expected to be (100,50)\n",
        "\n",
        "        Returns:\n",
        "        --------\n",
        "        torch.Tensor\n",
        "            shape = (batch_size, self.outKeypoints) representing the keypoints\n",
        "                of the cone in the input image relative to the image frame\n",
        "        \"\"\"\n",
        "        # convolutional part\n",
        "        img = self.convPart(img)\n",
        "        # fc part\n",
        "        img = img.view(img.size(0), -1)\n",
        "        img = self.fcNet(img)\n",
        "\n",
        "        return img"
      ],
      "metadata": {
        "id": "nmr4cyhKkofh"
      },
      "execution_count": null,
      "outputs": []
    },
    {
      "cell_type": "markdown",
      "metadata": {
        "id": "-3nHonZL-HW4"
      },
      "source": [
        "## Training"
      ]
    },
    {
      "cell_type": "code",
      "execution_count": null,
      "metadata": {
        "id": "A6v06SmI-HW5",
        "colab": {
          "base_uri": "https://localhost:8080/"
        },
        "outputId": "969e8cf1-3a85-4751-fc7a-5125088b23c9"
      },
      "outputs": [
        {
          "output_type": "stream",
          "name": "stderr",
          "text": [
            "/usr/local/lib/python3.10/dist-packages/torch/nn/_reduction.py:42: UserWarning: size_average and reduce args will be deprecated, please use reduction='mean' instead.\n",
            "  warnings.warn(warning.format(ret))\n"
          ]
        }
      ],
      "source": [
        "model = KeypointNet(inputChannels=1, outKeypoints=8)\n",
        "optimizer = Adam(model.parameters(), lr=1e-4)\n",
        "scheduler = ReduceLROnPlateau(optimizer, mode='min', factor=0.1, patience=25, verbose=True)\n",
        "trainingTracker = []\n",
        "validTracker = []\n",
        "\n",
        "trainingParameters = TrainingParameters(\n",
        "    model=model,\n",
        "    criterion=MSELoss(0.1),\n",
        "    optimizer=optimizer,\n",
        "    trainloader=trainLoader,\n",
        "    validloader=validLoader,\n",
        "    epochs=2000,\n",
        "    savedModelName= \"checkpoints/model.pth\",\n",
        "    scheduler=scheduler,\n",
        "    trainingTracker=trainingTracker,\n",
        "    validTracker=validTracker\n",
        ")"
      ]
    },
    {
      "cell_type": "code",
      "execution_count": null,
      "metadata": {
        "id": "W5RPw6tN-HW5"
      },
      "outputs": [],
      "source": [
        "train(trainingParameters) # starts the model training"
      ]
    },
    {
      "cell_type": "markdown",
      "metadata": {
        "id": "BAkYoDFk-HW5"
      },
      "source": [
        "## Metrics Visualization and Testing"
      ]
    },
    {
      "cell_type": "code",
      "execution_count": null,
      "metadata": {
        "id": "kZ-0bbCT-HW5"
      },
      "outputs": [],
      "source": [
        "# Training and validation plots\n",
        "START = ... # @TODO start count to show (0 or more at your convenience) \n",
        "LIMIT = ... # @TODO put your stop epoch\n",
        "\n",
        "epochs = np.arange(LIMIT-START)\n",
        "plt.plot(epochs, trainingTracker[START:LIMIT], label=\"Training\")\n",
        "plt.plot(epochs, validTracker[START:LIMIT], label=\"Validation\")\n",
        "plt.legend()\n",
        "plt.show()"
      ]
    },
    {
      "cell_type": "code",
      "execution_count": null,
      "metadata": {
        "id": "EsKTM38S-HW5"
      },
      "outputs": [],
      "source": [
        "# test loss\n",
        "model = KeypointNet(inputChannels=1, outKeypoints=8)\n",
        "model.load_state_dict(torch.load(\"checkpoints/mseloss2.pth\"))\n",
        "model = model.cuda()\n",
        "testloss = 0\n",
        "criterion = MSELoss()\n",
        "\n",
        "with torch.no_grad():\n",
        "    model.eval()\n",
        "    for imgs, labels in testLoader:\n",
        "        batchSize, *_ =imgs.shape\n",
        "        out = model(imgs.cuda())\n",
        "        loss = criterion(out, labels.cuda())\n",
        "        testloss+=loss.item()*batchSize\n",
        "        \n",
        "print(\"Loss:\", testloss/len(testLoader.dataset))"
      ]
    },
    {
      "cell_type": "markdown",
      "metadata": {
        "id": "Gl8Qa3Hb-HW5"
      },
      "source": [
        "## Show model output visualized (images)"
      ]
    },
    {
      "cell_type": "code",
      "execution_count": null,
      "metadata": {
        "id": "YrAahFM0-HW6"
      },
      "outputs": [],
      "source": [
        "import matplotlib.pyplot as plt\n",
        "\n",
        "imgs, labels = next(iter(testLoader))\n",
        "\n",
        "for j, (imgs, labels) in enumerate(testLoader):\n",
        "    with torch.no_grad():\n",
        "        model.eval()\n",
        "        model = model.cuda()\n",
        "        outs = model(imgs.cuda())\n",
        "\n",
        "    bs, _, height, width = imgs.shape\n",
        "    fig, ax = plt.subplots(nrows=8, ncols=8, figsize=(20,20))\n",
        "\n",
        "    for i, axi in enumerate(ax.flat):\n",
        "        # get keypoints\n",
        "        try:\n",
        "            kps = outs[i].cpu().detach().numpy()\n",
        "            kps = kps.reshape(-1,2)\n",
        "            kps[:,0] = kps[:,0]*width\n",
        "            kps[:,1] = kps[:,1]*height\n",
        "            kps = kps.astype(int)\n",
        "            # labels\n",
        "            label = labels[i].cpu().detach().numpy()\n",
        "            label = label.reshape(-1,2)\n",
        "            label[:,0] = label[:,0]*width\n",
        "            label[:,1] = label[:,1]*height\n",
        "            label = label.astype(int)\n",
        "            # get img\n",
        "            img = imgs[i].cpu().detach().permute(1,2,0).squeeze(2).numpy().astype(np.float32).copy()\n",
        "\n",
        "            for point1, point2 in zip(kps, label):\n",
        "                axi.plot(*point1, marker='.', color='red', alpha=0.5)\n",
        "                axi.plot(*point2, marker='*', color='blue', alpha=0.5)\n",
        "            axi.imshow(img)\n",
        "        except: \n",
        "            continue\n",
        "\n",
        "    fig.show()\n",
        "    fig.savefig(f\"res_{j}\"\".png\")"
      ]
    }
  ],
  "metadata": {
    "colab": {
      "provenance": [],
      "gpuType": "T4",
      "include_colab_link": true
    },
    "kernelspec": {
      "display_name": "Python 3 (ipykernel)",
      "language": "python",
      "name": "python3"
    },
    "language_info": {
      "codemirror_mode": {
        "name": "ipython",
        "version": 3
      },
      "file_extension": ".py",
      "mimetype": "text/x-python",
      "name": "python",
      "nbconvert_exporter": "python",
      "pygments_lexer": "ipython3",
      "version": "3.8.10"
    },
    "gpuClass": "standard",
    "accelerator": "GPU"
  },
  "nbformat": 4,
  "nbformat_minor": 0
}