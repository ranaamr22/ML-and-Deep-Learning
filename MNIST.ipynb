{
  "nbformat": 4,
  "nbformat_minor": 0,
  "metadata": {
    "colab": {
      "provenance": [],
      "authorship_tag": "ABX9TyNUTWQGFfLD+ovOS6jheZOI",
      "include_colab_link": true
    },
    "kernelspec": {
      "name": "python3",
      "display_name": "Python 3"
    },
    "language_info": {
      "name": "python"
    }
  },
  "cells": [
    {
      "cell_type": "markdown",
      "metadata": {
        "id": "view-in-github",
        "colab_type": "text"
      },
      "source": [
        "<a href=\"https://colab.research.google.com/github/ranaamr22/ML-and-Deep-Learning/blob/main/MNIST.ipynb\" target=\"_parent\"><img src=\"https://colab.research.google.com/assets/colab-badge.svg\" alt=\"Open In Colab\"/></a>"
      ]
    },
    {
      "cell_type": "code",
      "execution_count": 2,
      "metadata": {
        "id": "R7uTb6ennptz"
      },
      "outputs": [],
      "source": [
        "%matplotlib inline\n",
        "%config InlineBackend.figure_format = 'retina'\n",
        "\n",
        "import numpy as np\n",
        "import torch\n",
        "import helper\n",
        "import matplotlib.pyplot as plt "
      ]
    },
    {
      "cell_type": "code",
      "source": [
        "# The MNIST datasets are hosted on yann.lecun.com that has moved under CloudFlare protection\n",
        "# Run this script to enable the datasets download\n",
        "# Reference: https://github.com/pytorch/vision/issues/1938\n",
        "\n",
        "from six.moves import urllib\n",
        "opener = urllib.request.build_opener()\n",
        "opener.addheaders = [('User-agent', 'Mozilla/5.0')]\n",
        "urllib.request.install_opener(opener)"
      ],
      "metadata": {
        "id": "_5Jq0eaqoa27"
      },
      "execution_count": 3,
      "outputs": []
    },
    {
      "cell_type": "code",
      "source": [
        "from torchvision import datasets, transforms\n",
        "\n",
        "# Define a transform to normalize the data\n",
        "transform = transforms.Compose([transforms.ToTensor(),\n",
        "                              transforms.Normalize((0.5,), (0.5,)),\n",
        "                              ])\n",
        "\n",
        "# Download and load the training data\n",
        "trainset = datasets.MNIST('~/.pytorch/MNIST_data/', download=True, train=True, transform=transform)\n",
        "trainloader = torch.utils.data.DataLoader(trainset, batch_size=64, shuffle=True)"
      ],
      "metadata": {
        "id": "AAFcTwyPpttp",
        "outputId": "e9627108-2161-4091-d164-7493549d8afe",
        "colab": {
          "base_uri": "https://localhost:8080/"
        }
      },
      "execution_count": 4,
      "outputs": [
        {
          "output_type": "stream",
          "name": "stdout",
          "text": [
            "Downloading http://yann.lecun.com/exdb/mnist/train-images-idx3-ubyte.gz\n",
            "Downloading http://yann.lecun.com/exdb/mnist/train-images-idx3-ubyte.gz to /root/.pytorch/MNIST_data/MNIST/raw/train-images-idx3-ubyte.gz\n"
          ]
        },
        {
          "output_type": "stream",
          "name": "stderr",
          "text": [
            "100%|██████████| 9912422/9912422 [00:00<00:00, 100118264.54it/s]\n"
          ]
        },
        {
          "output_type": "stream",
          "name": "stdout",
          "text": [
            "Extracting /root/.pytorch/MNIST_data/MNIST/raw/train-images-idx3-ubyte.gz to /root/.pytorch/MNIST_data/MNIST/raw\n",
            "\n",
            "Downloading http://yann.lecun.com/exdb/mnist/train-labels-idx1-ubyte.gz\n",
            "Downloading http://yann.lecun.com/exdb/mnist/train-labels-idx1-ubyte.gz to /root/.pytorch/MNIST_data/MNIST/raw/train-labels-idx1-ubyte.gz\n"
          ]
        },
        {
          "output_type": "stream",
          "name": "stderr",
          "text": [
            "100%|██████████| 28881/28881 [00:00<00:00, 85972813.22it/s]"
          ]
        },
        {
          "output_type": "stream",
          "name": "stdout",
          "text": [
            "Extracting /root/.pytorch/MNIST_data/MNIST/raw/train-labels-idx1-ubyte.gz to /root/.pytorch/MNIST_data/MNIST/raw\n",
            "\n",
            "Downloading http://yann.lecun.com/exdb/mnist/t10k-images-idx3-ubyte.gz\n"
          ]
        },
        {
          "output_type": "stream",
          "name": "stderr",
          "text": [
            "\n"
          ]
        },
        {
          "output_type": "stream",
          "name": "stdout",
          "text": [
            "Downloading http://yann.lecun.com/exdb/mnist/t10k-images-idx3-ubyte.gz to /root/.pytorch/MNIST_data/MNIST/raw/t10k-images-idx3-ubyte.gz\n"
          ]
        },
        {
          "output_type": "stream",
          "name": "stderr",
          "text": [
            "100%|██████████| 1648877/1648877 [00:00<00:00, 26200528.10it/s]\n"
          ]
        },
        {
          "output_type": "stream",
          "name": "stdout",
          "text": [
            "Extracting /root/.pytorch/MNIST_data/MNIST/raw/t10k-images-idx3-ubyte.gz to /root/.pytorch/MNIST_data/MNIST/raw\n",
            "\n",
            "Downloading http://yann.lecun.com/exdb/mnist/t10k-labels-idx1-ubyte.gz\n",
            "Downloading http://yann.lecun.com/exdb/mnist/t10k-labels-idx1-ubyte.gz to /root/.pytorch/MNIST_data/MNIST/raw/t10k-labels-idx1-ubyte.gz\n"
          ]
        },
        {
          "output_type": "stream",
          "name": "stderr",
          "text": [
            "100%|██████████| 4542/4542 [00:00<00:00, 6019124.41it/s]\n"
          ]
        },
        {
          "output_type": "stream",
          "name": "stdout",
          "text": [
            "Extracting /root/.pytorch/MNIST_data/MNIST/raw/t10k-labels-idx1-ubyte.gz to /root/.pytorch/MNIST_data/MNIST/raw\n",
            "\n"
          ]
        }
      ]
    },
    {
      "cell_type": "code",
      "source": [
        "dataiter = iter(trainloader)\n",
        "images, labels = next(dataiter)\n",
        "print(type(images))\n",
        "print(images.shape)\n",
        "print(labels.shape)"
      ],
      "metadata": {
        "id": "lWfCwr4MvbRH",
        "outputId": "bdb63253-2593-4f41-de72-5f303817425e",
        "colab": {
          "base_uri": "https://localhost:8080/"
        }
      },
      "execution_count": 5,
      "outputs": [
        {
          "output_type": "stream",
          "name": "stdout",
          "text": [
            "<class 'torch.Tensor'>\n",
            "torch.Size([64, 1, 28, 28])\n",
            "torch.Size([64])\n"
          ]
        }
      ]
    },
    {
      "cell_type": "code",
      "source": [
        "plt.imshow(images[1].numpy().squeeze(), cmap='Greys_r');"
      ],
      "metadata": {
        "id": "uiczVRoyvcx4",
        "outputId": "3987c3d5-e121-4d73-f43a-5b5681f697e0",
        "colab": {
          "base_uri": "https://localhost:8080/",
          "height": 430
        }
      },
      "execution_count": 6,
      "outputs": [
        {
          "output_type": "display_data",
          "data": {
            "text/plain": [
              "<Figure size 640x480 with 1 Axes>"
            ],
            "image/png": "[encoded data removed]"
          },
          "metadata": {
            "image/png": {
              "width": 417,
              "height": 413
            }
          }
        }
      ]
    },
    {
      "cell_type": "code",
      "source": [
        "def activation(x):\n",
        "    return 1/(1+torch.exp(-x))\n",
        "\n",
        "# Flatten the input images\n",
        "inputs = images.view(images.shape[0], -1)\n",
        "\n",
        "# Create parameters\n",
        "w1 = torch.randn(784,256)\n",
        "b1 = torch.randn(256)\n",
        "\n",
        "w2 = torch.randn(256,10)\n",
        "b2 = torch.randn(10)\n",
        "\n",
        "h = activation(torch.mm(inputs, w1) + b1)\n",
        "\n",
        "out = activation(torch.mm(h, w2) + b2)\n",
        "out"
      ],
      "metadata": {
        "id": "MtFWOJrMxg5m",
        "outputId": "7fd0b9a4-dd14-4f2e-c1f1-71ecd8ec0999",
        "colab": {
          "base_uri": "https://localhost:8080/"
        }
      },
      "execution_count": 7,
      "outputs": [
        {
          "output_type": "execute_result",
          "data": {
            "text/plain": [
              "tensor([[4.4200e-01, 1.9468e-01, 9.9991e-01, 4.3198e-10, 3.4586e-06, 9.9552e-01,\n",
              "         4.4776e-01, 4.5476e-01, 9.9878e-01, 1.0186e-06],\n",
              "        [9.8319e-01, 7.3654e-05, 4.7715e-01, 4.6261e-08, 1.7061e-06, 2.9349e-03,\n",
              "         8.0065e-03, 9.9995e-01, 1.0000e+00, 3.0243e-06],\n",
              "        [1.3802e-02, 9.3190e-01, 7.4640e-01, 3.6351e-13, 2.7524e-08, 7.9123e-04,\n",
              "         1.9107e-01, 6.3823e-04, 1.0000e+00, 1.4723e-02],\n",
              "        [3.0411e-02, 4.6621e-03, 9.8429e-01, 3.8560e-06, 1.0266e-03, 4.6440e-02,\n",
              "         3.4416e-01, 9.5440e-01, 9.9999e-01, 6.8576e-07],\n",
              "        [3.1637e-03, 2.8687e-01, 6.1189e-01, 9.1627e-05, 3.1549e-06, 9.9305e-01,\n",
              "         8.4162e-01, 9.6786e-01, 9.9550e-01, 9.6048e-07],\n",
              "        [4.9422e-07, 9.8682e-01, 7.8147e-01, 1.0057e-06, 2.1279e-07, 3.9805e-01,\n",
              "         3.5334e-01, 9.5727e-01, 9.9987e-01, 9.1029e-11],\n",
              "        [1.3583e-08, 1.4338e-03, 8.8217e-01, 5.3070e-14, 7.1922e-06, 1.9700e-01,\n",
              "         9.2971e-03, 5.0929e-03, 9.9684e-01, 1.0250e-07],\n",
              "        [1.5835e-04, 1.1316e-01, 9.7533e-01, 9.2317e-17, 9.7364e-08, 9.9968e-01,\n",
              "         4.9838e-01, 9.9261e-01, 2.5130e-01, 3.5079e-06],\n",
              "        [6.4063e-06, 1.0188e-03, 9.9072e-01, 1.2285e-12, 3.4006e-05, 1.7056e-01,\n",
              "         1.6630e-08, 1.0649e-02, 9.9393e-01, 2.0828e-04],\n",
              "        [7.6852e-03, 1.5575e-03, 5.3366e-03, 3.8987e-10, 4.3140e-06, 3.9178e-03,\n",
              "         9.2266e-01, 3.8869e-01, 9.2678e-01, 1.0279e-03],\n",
              "        [1.2211e-06, 9.9915e-01, 1.9761e-02, 1.6324e-05, 4.1128e-05, 7.0947e-02,\n",
              "         4.4742e-05, 9.9851e-01, 9.7308e-01, 2.6707e-07],\n",
              "        [7.4961e-07, 1.8682e-02, 1.6877e-03, 4.5503e-07, 2.5998e-09, 7.6072e-04,\n",
              "         6.6169e-01, 7.1681e-01, 9.9996e-01, 1.9363e-09],\n",
              "        [8.5426e-06, 8.8189e-01, 3.7758e-02, 4.9036e-10, 1.5396e-05, 9.9920e-01,\n",
              "         9.3709e-02, 2.3364e-05, 9.9627e-01, 1.7817e-06],\n",
              "        [2.1719e-01, 8.7838e-02, 8.5090e-05, 1.5629e-10, 2.5405e-08, 9.8854e-03,\n",
              "         9.6194e-02, 9.1800e-03, 9.9999e-01, 1.7273e-07],\n",
              "        [1.5786e-03, 2.5812e-02, 1.0000e+00, 7.4917e-12, 2.7700e-04, 1.0576e-02,\n",
              "         2.1028e-02, 1.0906e-03, 9.9989e-01, 1.2181e-07],\n",
              "        [1.0791e-03, 4.4554e-02, 8.7470e-01, 1.7366e-06, 2.3818e-04, 3.4060e-04,\n",
              "         9.9425e-01, 9.4890e-01, 7.7903e-01, 1.5606e-05],\n",
              "        [1.2311e-09, 8.1300e-06, 1.0000e+00, 2.2513e-09, 3.0912e-11, 2.3051e-05,\n",
              "         9.8050e-01, 4.3437e-02, 9.9744e-01, 8.0855e-10],\n",
              "        [4.4860e-06, 3.8871e-01, 6.9782e-02, 2.2643e-11, 1.4611e-06, 4.6509e-01,\n",
              "         5.7633e-02, 9.7788e-01, 9.9919e-01, 1.6353e-07],\n",
              "        [4.4525e-02, 9.4457e-01, 9.9995e-01, 4.0006e-08, 1.5825e-04, 9.9786e-01,\n",
              "         2.1271e-02, 5.1104e-05, 4.5604e-01, 1.4155e-04],\n",
              "        [5.4169e-05, 6.2937e-01, 9.9500e-01, 4.5704e-09, 1.6544e-07, 3.6818e-01,\n",
              "         7.6999e-01, 7.8425e-04, 9.9999e-01, 1.3236e-06],\n",
              "        [6.5180e-03, 2.9997e-01, 2.2997e-01, 3.8047e-10, 1.4656e-06, 9.8965e-01,\n",
              "         9.7171e-01, 7.6593e-04, 8.2319e-01, 1.1219e-04],\n",
              "        [1.0990e-04, 2.6997e-05, 9.9912e-01, 8.0030e-11, 1.0199e-07, 1.5773e-06,\n",
              "         4.2132e-01, 9.9992e-01, 9.7854e-01, 3.9476e-05],\n",
              "        [2.4536e-04, 6.5896e-01, 8.1313e-04, 2.6665e-08, 1.8160e-09, 8.4082e-01,\n",
              "         9.9978e-01, 2.5167e-02, 9.9956e-01, 4.2942e-07],\n",
              "        [1.4667e-06, 9.9949e-01, 9.9979e-01, 1.5918e-07, 7.3989e-06, 9.8254e-01,\n",
              "         5.8607e-03, 4.0879e-01, 9.0100e-01, 4.1251e-04],\n",
              "        [3.9777e-03, 2.5890e-03, 1.1176e-05, 1.0402e-08, 3.5727e-09, 1.4903e-03,\n",
              "         2.5278e-01, 2.6807e-03, 1.0000e+00, 3.3723e-09],\n",
              "        [9.0815e-01, 2.2835e-04, 1.4079e-03, 3.8675e-11, 1.0833e-07, 3.5286e-01,\n",
              "         3.1531e-03, 2.2133e-01, 9.8476e-01, 3.7346e-05],\n",
              "        [2.6396e-03, 3.1010e-02, 9.8052e-01, 1.6613e-06, 9.2803e-08, 9.9759e-01,\n",
              "         1.1776e-01, 8.5782e-01, 9.8552e-01, 2.5360e-12],\n",
              "        [8.7783e-04, 9.9303e-05, 1.7263e-01, 1.8697e-11, 6.0880e-11, 1.2286e-01,\n",
              "         1.5267e-04, 3.6998e-01, 9.9275e-01, 1.1978e-07],\n",
              "        [1.5990e-03, 9.2860e-01, 1.0915e-01, 8.6986e-12, 1.0152e-05, 2.9808e-04,\n",
              "         2.1951e-03, 7.7424e-02, 9.9896e-01, 1.2491e-06],\n",
              "        [8.3352e-01, 4.0802e-01, 3.6188e-02, 3.5504e-11, 3.0948e-06, 9.9779e-01,\n",
              "         7.4920e-03, 8.7330e-03, 9.9998e-01, 9.6958e-06],\n",
              "        [9.2206e-01, 4.8727e-02, 2.3425e-01, 1.2115e-13, 7.8517e-08, 1.3190e-03,\n",
              "         6.5129e-01, 9.9996e-01, 6.2176e-03, 1.1315e-03],\n",
              "        [2.1233e-05, 2.7627e-01, 3.7019e-05, 7.4362e-09, 3.7883e-10, 1.9082e-03,\n",
              "         9.2006e-04, 3.5073e-01, 8.1264e-02, 5.2918e-04],\n",
              "        [7.3940e-04, 9.0552e-02, 5.4413e-01, 1.9672e-09, 3.2460e-08, 8.9455e-01,\n",
              "         1.0711e-03, 3.1290e-05, 9.9046e-01, 1.7256e-05],\n",
              "        [1.2940e-01, 3.6247e-01, 9.6727e-01, 1.7238e-15, 2.5769e-05, 2.0291e-02,\n",
              "         2.8036e-02, 3.2221e-03, 9.4809e-01, 7.5608e-07],\n",
              "        [9.9810e-01, 8.5227e-01, 9.9909e-01, 3.4294e-10, 2.5567e-02, 9.9999e-01,\n",
              "         6.5663e-04, 3.0474e-04, 9.1539e-01, 5.1882e-01],\n",
              "        [2.5838e-03, 9.9478e-01, 2.5956e-01, 3.4628e-07, 8.3284e-05, 8.9869e-01,\n",
              "         1.1504e-01, 5.3042e-04, 9.9534e-01, 1.3465e-06],\n",
              "        [6.4026e-05, 9.4155e-01, 9.5886e-03, 2.7060e-11, 8.4535e-06, 3.6335e-03,\n",
              "         1.6896e-03, 2.0601e-03, 9.9926e-01, 8.1419e-07],\n",
              "        [1.7347e-03, 8.6877e-01, 5.9406e-06, 1.1875e-08, 3.4813e-04, 8.0289e-01,\n",
              "         4.9216e-01, 1.3053e-03, 9.9993e-01, 3.3062e-05],\n",
              "        [1.3199e-02, 5.0652e-01, 9.9998e-01, 2.0180e-10, 1.5403e-01, 9.2851e-02,\n",
              "         4.2966e-04, 7.7587e-01, 9.9761e-01, 6.9578e-09],\n",
              "        [9.8555e-01, 5.6607e-03, 9.9999e-01, 1.0285e-11, 5.5589e-07, 7.4946e-02,\n",
              "         9.6431e-02, 4.7681e-01, 9.9997e-01, 2.9680e-04],\n",
              "        [9.8990e-05, 2.9381e-01, 8.8225e-01, 1.0358e-09, 8.4966e-06, 1.0466e-03,\n",
              "         1.8418e-03, 7.3792e-01, 9.9993e-01, 8.7249e-09],\n",
              "        [4.4845e-06, 6.4072e-01, 9.1557e-01, 4.2026e-10, 7.1218e-02, 5.9031e-05,\n",
              "         1.3036e-01, 4.4972e-05, 1.0000e+00, 1.7961e-05],\n",
              "        [1.4103e-04, 5.3470e-03, 9.9999e-01, 9.6421e-07, 2.3393e-06, 6.9239e-02,\n",
              "         9.7849e-01, 9.2189e-03, 9.9998e-01, 1.4553e-07],\n",
              "        [7.6247e-05, 2.6287e-02, 8.5191e-01, 1.0601e-07, 3.4035e-09, 8.2334e-01,\n",
              "         6.8226e-05, 3.7858e-01, 6.1408e-02, 3.6481e-06],\n",
              "        [1.5122e-05, 2.1169e-01, 9.8072e-01, 3.2514e-14, 2.5790e-08, 2.4488e-03,\n",
              "         1.0645e-02, 7.8145e-04, 1.9707e-03, 5.7513e-08],\n",
              "        [9.1050e-01, 1.1932e-03, 7.3126e-01, 1.6322e-11, 1.3141e-07, 1.7083e-02,\n",
              "         3.1685e-03, 3.6585e-01, 4.3011e-01, 7.6105e-04],\n",
              "        [5.9105e-05, 1.6521e-02, 8.5023e-03, 7.1776e-06, 4.9432e-09, 5.3050e-02,\n",
              "         9.9988e-01, 9.4800e-03, 9.9996e-01, 1.2507e-07],\n",
              "        [1.7842e-08, 9.9401e-01, 9.9946e-01, 6.0533e-10, 6.0856e-04, 9.8565e-01,\n",
              "         7.1348e-02, 2.1563e-06, 9.7993e-01, 4.4057e-09],\n",
              "        [5.3072e-02, 8.8011e-04, 9.5622e-01, 4.0882e-14, 1.4786e-05, 4.9889e-06,\n",
              "         2.4506e-03, 6.5098e-02, 1.0000e+00, 2.1656e-09],\n",
              "        [6.7919e-05, 1.6631e-02, 1.1168e-01, 1.6449e-14, 1.4693e-09, 9.9999e-01,\n",
              "         7.8309e-03, 9.2474e-01, 9.5449e-01, 1.8704e-07],\n",
              "        [1.9612e-06, 2.8822e-01, 5.1163e-01, 1.4395e-09, 1.2128e-08, 9.8837e-01,\n",
              "         3.3590e-02, 9.9845e-01, 9.9941e-01, 8.3877e-07],\n",
              "        [9.7062e-05, 2.6184e-02, 9.6844e-01, 2.1985e-10, 2.5943e-07, 7.4555e-03,\n",
              "         1.3236e-05, 8.1655e-01, 6.0414e-01, 1.1767e-07],\n",
              "        [2.8126e-07, 9.7982e-01, 9.9762e-01, 3.1249e-09, 5.9414e-08, 5.1220e-02,\n",
              "         9.5169e-01, 7.7152e-02, 9.9993e-01, 2.3638e-06],\n",
              "        [2.3705e-04, 8.7004e-01, 8.4471e-01, 1.4564e-11, 9.6090e-06, 8.3973e-01,\n",
              "         8.3490e-03, 7.1416e-02, 9.9996e-01, 2.2964e-05],\n",
              "        [3.0554e-08, 4.6430e-01, 2.2559e-01, 1.1959e-10, 1.2248e-05, 9.9533e-01,\n",
              "         4.8657e-03, 3.9797e-07, 9.9582e-01, 4.7984e-07],\n",
              "        [1.8542e-08, 3.3384e-01, 5.2718e-01, 4.2542e-07, 1.6691e-10, 9.9149e-01,\n",
              "         7.9933e-01, 8.9929e-01, 9.9875e-01, 2.1298e-08],\n",
              "        [3.6772e-09, 7.0806e-01, 4.8928e-01, 4.1356e-11, 4.9619e-07, 9.4565e-01,\n",
              "         2.5327e-05, 2.5844e-02, 9.9874e-01, 2.1377e-07],\n",
              "        [2.4010e-02, 1.7733e-02, 2.6910e-01, 1.1345e-10, 4.6067e-11, 9.6929e-01,\n",
              "         5.6696e-01, 5.4404e-02, 9.9999e-01, 7.4944e-07],\n",
              "        [1.1257e-08, 3.8690e-04, 2.0052e-02, 3.7315e-11, 6.8485e-12, 5.9573e-01,\n",
              "         1.1637e-02, 1.4305e-01, 9.9989e-01, 4.3065e-07],\n",
              "        [3.2545e-02, 1.0000e+00, 9.9981e-01, 3.8102e-11, 1.1954e-04, 2.2756e-02,\n",
              "         1.9687e-02, 1.7804e-04, 9.9875e-01, 2.0893e-06],\n",
              "        [9.8917e-01, 7.7881e-03, 8.9649e-01, 5.9249e-11, 5.3610e-07, 9.4075e-01,\n",
              "         5.2366e-01, 2.2226e-02, 9.9996e-01, 4.0068e-07],\n",
              "        [7.6240e-05, 1.1148e-02, 9.5720e-01, 1.4246e-12, 1.4352e-07, 3.8146e-02,\n",
              "         2.0922e-02, 2.6690e-02, 9.5253e-01, 2.1080e-08],\n",
              "        [2.8152e-04, 1.5364e-04, 1.4835e-03, 3.3129e-12, 4.5288e-08, 3.5626e-02,\n",
              "         9.2908e-01, 9.8215e-01, 9.7255e-01, 8.9064e-08],\n",
              "        [1.2939e-09, 9.9254e-01, 9.9029e-01, 2.5326e-09, 2.3217e-06, 1.0707e-01,\n",
              "         2.5194e-02, 1.7276e-02, 9.9875e-01, 3.5061e-05]])"
            ]
          },
          "metadata": {},
          "execution_count": 7
        }
      ]
    },
    {
      "cell_type": "code",
      "source": [
        "def softmax(x):\n",
        "    return torch.exp(x)/torch.sum(torch.exp(x), dim=1).view(-1, 1)\n",
        "\n",
        "probabilities = softmax(out)\n",
        "print(probabilities.shape)\n",
        "print(probabilities.sum(dim=1))"
      ],
      "metadata": {
        "id": "qNSUeH5CI3Mx",
        "outputId": "d7eb5ad5-385b-43b5-ac33-c382f5646b5a",
        "colab": {
          "base_uri": "https://localhost:8080/"
        }
      },
      "execution_count": 8,
      "outputs": [
        {
          "output_type": "stream",
          "name": "stdout",
          "text": [
            "torch.Size([64, 10])\n",
            "tensor([1.0000, 1.0000, 1.0000, 1.0000, 1.0000, 1.0000, 1.0000, 1.0000, 1.0000,\n",
            "        1.0000, 1.0000, 1.0000, 1.0000, 1.0000, 1.0000, 1.0000, 1.0000, 1.0000,\n",
            "        1.0000, 1.0000, 1.0000, 1.0000, 1.0000, 1.0000, 1.0000, 1.0000, 1.0000,\n",
            "        1.0000, 1.0000, 1.0000, 1.0000, 1.0000, 1.0000, 1.0000, 1.0000, 1.0000,\n",
            "        1.0000, 1.0000, 1.0000, 1.0000, 1.0000, 1.0000, 1.0000, 1.0000, 1.0000,\n",
            "        1.0000, 1.0000, 1.0000, 1.0000, 1.0000, 1.0000, 1.0000, 1.0000, 1.0000,\n",
            "        1.0000, 1.0000, 1.0000, 1.0000, 1.0000, 1.0000, 1.0000, 1.0000, 1.0000,\n",
            "        1.0000])\n"
          ]
        }
      ]
    },
    {
      "cell_type": "code",
      "source": [
        "from torch import nn\n",
        "import torch.nn.functional as F\n",
        "\n",
        "class Network(nn.Module):\n",
        "    def __init__(self):\n",
        "        super().__init__()\n",
        "        # Inputs to hidden layer linear transformation\n",
        "        self.hidden = nn.Linear(784, 256)\n",
        "        # Output layer, 10 units - one for each digit\n",
        "        self.output = nn.Linear(256, 10)\n",
        "        \n",
        "    def forward(self, x):\n",
        "        # Hidden layer with sigmoid activation\n",
        "        x = F.sigmoid(self.hidden(x))\n",
        "        # Output layer with softmax activation\n",
        "        x = F.softmax(self.output(x), dim=1)\n",
        "        \n",
        "        return x"
      ],
      "metadata": {
        "id": "rXJWD5rsRA9P"
      },
      "execution_count": 9,
      "outputs": []
    },
    {
      "cell_type": "code",
      "source": [
        "class Network(nn.Module):\n",
        "    def __init__(self):\n",
        "        super().__init__()\n",
        "        \n",
        "        self.fc1 = nn.Linear(784, 128)\n",
        "        self.fc2 = nn.Linear(128, 64)\n",
        "        # Output layer, 10 units - one for each digit\n",
        "        self.fc3 = nn.Linear(64, 10)\n",
        "        \n",
        "    def forward(self, x):\n",
        "        # Hidden layer with sigmoid activation\n",
        "        x = F.relu(self.fc1(x))\n",
        "        x = F.relu(self.fc2(x))\n",
        "        # Output layer with softmax activation\n",
        "        x = F.softmax(self.fc3(x), dim=1)\n",
        "        \n",
        "        return x\n",
        "\n",
        "model = Network()\n",
        "model"
      ],
      "metadata": {
        "id": "Lv_rgUnzVWKF",
        "outputId": "495aba31-3623-4690-b606-8f13e113d0cf",
        "colab": {
          "base_uri": "https://localhost:8080/"
        }
      },
      "execution_count": 10,
      "outputs": [
        {
          "output_type": "execute_result",
          "data": {
            "text/plain": [
              "Network(\n",
              "  (fc1): Linear(in_features=784, out_features=128, bias=True)\n",
              "  (fc2): Linear(in_features=128, out_features=64, bias=True)\n",
              "  (fc3): Linear(in_features=64, out_features=10, bias=True)\n",
              ")"
            ]
          },
          "metadata": {},
          "execution_count": 10
        }
      ]
    },
    {
      "cell_type": "code",
      "source": [
        "import numpy as np\n",
        "import matplotlib.pyplot as plt\n",
        "\n",
        "def view_classify(img, ps, version=\"MNIST\"):\n",
        "    ''' Function for viewing an image and it's predicted classes.\n",
        "    '''\n",
        "    ps = ps.data.numpy().squeeze()\n",
        "\n",
        "    fig, (ax1, ax2) = plt.subplots(figsize=(6,9), ncols=2)\n",
        "    ax1.imshow(img.resize_(1, 28, 28).numpy().squeeze())\n",
        "    ax1.axis('off')\n",
        "    ax2.barh(np.arange(10), ps)\n",
        "    ax2.set_aspect(0.1)\n",
        "    ax2.set_yticks(np.arange(10))\n",
        "    if version == \"MNIST\":\n",
        "        ax2.set_yticklabels(['0', '1', '2', '3', '4', '5', '6', '7', '8', '9'])\n",
        "    elif version == \"Fashion\":\n",
        "        ax2.set_yticklabels(['T-shirt/top', 'Trouser', 'Pullover', 'Dress', 'Coat', 'Sandal', 'Shirt', 'Sneaker', 'Bag', 'Ankle Boot'], size='small');\n",
        "    ax2.set_title('Class Probability')\n",
        "    ax2.set_xlim(0, 1.1)\n",
        "\n",
        "    plt.tight_layout()\n"
      ],
      "metadata": {
        "id": "Ivlp9SOOw_98"
      },
      "execution_count": 12,
      "outputs": []
    },
    {
      "cell_type": "code",
      "source": [
        "# Grab some data \n",
        "import helper\n",
        "dataiter = iter(trainloader)\n",
        "images, labels = next(dataiter)\n",
        "\n",
        "# Resize images into a 1D vector, new shape is (batch size, color channels, image pixels) \n",
        "images.resize_(64, 1, 784)\n",
        "# or images.resize_(images.shape[0], 1, 784) to automatically get batch size\n",
        "\n",
        "# Forward pass through the network\n",
        "img_idx = 0\n",
        "ps = model.forward(images[img_idx,:])\n",
        "\n",
        "img = images[img_idx]\n",
        "out = view_classify(img.view(1, 28, 28), ps)\n",
        "out\n"
      ],
      "metadata": {
        "id": "rlds2BUDweal",
        "outputId": "205de211-d290-4b40-8ddc-5c425afccd7e",
        "colab": {
          "base_uri": "https://localhost:8080/",
          "height": 344
        }
      },
      "execution_count": 14,
      "outputs": [
        {
          "output_type": "display_data",
          "data": {
            "text/plain": [
              "<Figure size 600x900 with 2 Axes>"
            ],
            "image/png": "[encoded data removed]"
          },
          "metadata": {
            "image/png": {
              "width": 589,
              "height": 327
            }
          }
        }
      ]
    }
  ]
}